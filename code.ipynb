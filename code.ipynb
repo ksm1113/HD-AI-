{
 "cells": [
  {
   "cell_type": "code",
   "execution_count": 1,
   "metadata": {},
   "outputs": [],
   "source": [
    "\n",
    "import pandas as pd\n",
    "import numpy as np\n",
    "import matplotlib.pyplot as plt\n",
    "import seaborn as sns\n",
    "import datetime"
   ]
  },
  {
   "cell_type": "code",
   "execution_count": 2,
   "metadata": {},
   "outputs": [],
   "source": [
    "train = pd.read_csv('train.csv')\n",
    "test = pd.read_csv('test.csv')\n",
    "train = pd.DataFrame(train)\n",
    "test = pd.DataFrame(test)"
   ]
  },
  {
   "cell_type": "markdown",
   "metadata": {},
   "source": [
    "여기서는 정량적 즉 수치로 변환가능한 데이터 항목만 다룰 예정임\n",
    "그로 인해 'SAMPLE_ID','ID','ARI_CO','ARI_PO','SHIPMANAGER','FLAG' 제외"
   ]
  },
  {
   "cell_type": "code",
   "execution_count": 3,
   "metadata": {},
   "outputs": [],
   "source": [
    "#data 전처리\n",
    "train.drop(['SAMPLE_ID','ID','ARI_CO','ARI_PO','SHIPMANAGER','FLAG'],axis=1,inplace=True)\n",
    "test.drop(['SAMPLE_ID','ID','ARI_CO','ARI_PO','SHIPMANAGER','FLAG'],axis=1,inplace=True)"
   ]
  },
  {
   "cell_type": "code",
   "execution_count": 4,
   "metadata": {},
   "outputs": [],
   "source": [
    "for i in [train,test]:\n",
    "    i['SHIP_TYPE_CATEGORY']=i['SHIP_TYPE_CATEGORY'].astype('category')\n",
    "    i['ATA']=pd.to_datetime(i['ATA'])\n",
    "    i['YEAR']=i['ATA'].dt.year\n",
    "    i['MONTH']=i['ATA'].dt.month\n",
    "    i['Weekday']=i['ATA'].dt.dayofweek\n",
    "    i.drop(['ATA'],axis=1,inplace=True)"
   ]
  },
  {
   "cell_type": "markdown",
   "metadata": {},
   "source": [
    "선종 열을 카테고리로 변경\n",
    "ATA를 연,월,요일로 나눈뒤 ATA는 삭제\n",
    "\n",
    "1) 선종 별로 모델따로 학습시킨뒤 붙히거나 아님 원핫인코딩통해 조건문으로 모델 돌리기"
   ]
  },
  {
   "cell_type": "code",
   "execution_count": 20,
   "metadata": {},
   "outputs": [
    {
     "name": "stdout",
     "output_type": "stream",
     "text": [
      "<class 'pandas.core.frame.DataFrame'>\n",
      "RangeIndex: 391939 entries, 0 to 391938\n",
      "Data columns (total 19 columns):\n",
      " #   Column              Non-Null Count   Dtype   \n",
      "---  ------              --------------   -----   \n",
      " 0   SHIP_TYPE_CATEGORY  391939 non-null  category\n",
      " 1   DIST                391939 non-null  float64 \n",
      " 2   BREADTH             391938 non-null  float64 \n",
      " 3   BUILT               391939 non-null  int64   \n",
      " 4   DEADWEIGHT          391939 non-null  int64   \n",
      " 5   DEPTH               391938 non-null  float64 \n",
      " 6   DRAUGHT             391938 non-null  float64 \n",
      " 7   GT                  391939 non-null  int64   \n",
      " 8   LENGTH              391938 non-null  float64 \n",
      " 9   U_WIND              228251 non-null  float64 \n",
      " 10  V_WIND              228251 non-null  float64 \n",
      " 11  AIR_TEMPERATURE     227309 non-null  float64 \n",
      " 12  BN                  228251 non-null  float64 \n",
      " 13  ATA_LT              391939 non-null  int64   \n",
      " 14  PORT_SIZE           391939 non-null  float64 \n",
      " 15  CI_HOUR             391939 non-null  float64 \n",
      " 16  YEAR                391939 non-null  int32   \n",
      " 17  MONTH               391939 non-null  int32   \n",
      " 18  Weekday             391939 non-null  int32   \n",
      "dtypes: category(1), float64(11), int32(3), int64(4)\n",
      "memory usage: 49.7 MB\n"
     ]
    }
   ],
   "source": [
    "train.info()"
   ]
  },
  {
   "cell_type": "code",
   "execution_count": 24,
   "metadata": {},
   "outputs": [
    {
     "name": "stderr",
     "output_type": "stream",
     "text": [
      "c:\\Users\\KSM\\anaconda3\\Lib\\site-packages\\seaborn\\axisgrid.py:118: UserWarning: The figure layout has changed to tight\n",
      "  self._figure.tight_layout(*args, **kwargs)\n"
     ]
    },
    {
     "data": {
      "text/plain": [
       "<seaborn.axisgrid.FacetGrid at 0x1eca0588c90>"
      ]
     },
     "execution_count": 24,
     "metadata": {},
     "output_type": "execute_result"
    },
    {
     "data": {
      "image/png": "[encoded data removed]",
      "text/plain": [
       "<Figure size 500x500 with 1 Axes>"
      ]
     },
     "metadata": {},
     "output_type": "display_data"
    }
   ],
   "source": [
    "sns.catplot(x='SHIP_TYPE_CATEGORY',y='CI_HOUR',data=train,kind='bar')"
   ]
  },
  {
   "cell_type": "code",
   "execution_count": 5,
   "metadata": {},
   "outputs": [],
   "source": [
    "train2=pd.get_dummies(train['SHIP_TYPE_CATEGORY'])"
   ]
  },
  {
   "cell_type": "code",
   "execution_count": 6,
   "metadata": {},
   "outputs": [],
   "source": [
    "train3 = pd.concat([train,train2],axis=1)"
   ]
  },
  {
   "cell_type": "markdown",
   "metadata": {},
   "source": [
    "1) 결측치를 평균으로\n",
    "2) 결측치 제외\n",
    "--모델 완성까지해보고\n",
    "3) 결측치를 외부 데이터를 끌어와서 사용 ex) 특정 지역의 특정 시간 풍력벡터와 BN\n",
    "\n",
    "요일은 주말 1, 평일은 0\n",
    "월, 연 제외\n",
    "built 제외\n",
    "\n",
    "배 수치관련\n",
    "상관관계가 0.8~0.9에 육박함 그래서 GT를 대표로 나머지 수치관련 항목은 일단 제외하고 수행\n",
    "deadweight는 포함\n",
    "하면서 조정\n",
    "\n",
    "u,v 뺴고 제곱루트 떄려서 풍력항 하나 만들기\n",
    "OR\n",
    "BN만 쓰자\n",
    "\n"
   ]
  },
  {
   "cell_type": "code",
   "execution_count": 52,
   "metadata": {},
   "outputs": [
    {
     "data": {
      "text/plain": [
       "Index(['SHIP_TYPE_CATEGORY', 'DIST', 'BREADTH', 'BUILT', 'DEADWEIGHT', 'DEPTH',\n",
       "       'DRAUGHT', 'GT', 'LENGTH', 'U_WIND', 'V_WIND', 'AIR_TEMPERATURE', 'BN',\n",
       "       'ATA_LT', 'PORT_SIZE', 'CI_HOUR', 'YEAR', 'MONTH', 'Weekday', 'Bulk',\n",
       "       'Cargo', 'Container', 'Tanker'],\n",
       "      dtype='object')"
      ]
     },
     "execution_count": 52,
     "metadata": {},
     "output_type": "execute_result"
    }
   ],
   "source": [
    "train3.columns\n",
    "# 내가 돌려봤는데 DEADWEIGHT, GT보단 길이 각각 따로 넣는게 나은거같음.."
   ]
  },
  {
   "cell_type": "code",
   "execution_count": 7,
   "metadata": {},
   "outputs": [],
   "source": [
    "train3 = train3.drop(['BUILT','SHIP_TYPE_CATEGORY','DEADWEIGHT','GT','U_WIND','V_WIND','YEAR','MONTH'],axis=1)"
   ]
  },
  {
   "cell_type": "code",
   "execution_count": 8,
   "metadata": {},
   "outputs": [
    {
     "data": {
      "text/plain": [
       "Index(['DIST', 'BREADTH', 'DEPTH', 'DRAUGHT', 'LENGTH', 'AIR_TEMPERATURE',\n",
       "       'BN', 'ATA_LT', 'PORT_SIZE', 'CI_HOUR', 'Weekday', 'Bulk', 'Cargo',\n",
       "       'Container', 'Tanker'],\n",
       "      dtype='object')"
      ]
     },
     "execution_count": 8,
     "metadata": {},
     "output_type": "execute_result"
    }
   ],
   "source": [
    "train3.columns"
   ]
  },
  {
   "cell_type": "markdown",
   "metadata": {},
   "source": [
    " 결측치 처리\n",
    "  https://daebaq27.tistory.com/43\n",
    " BN에 대해서는 어떻게 할것인가?\n",
    " AIR_TEMPERATURE는?\n",
    "결측치 비율\t처리 방법\n",
    "10% 미만\t제거 또는 치환\n",
    "10% 이상 20% 미만\t모델 기반 처리\n",
    "20% 이상\t모델 기반 처리"
   ]
  },
  {
   "cell_type": "code",
   "execution_count": 15,
   "metadata": {},
   "outputs": [
    {
     "name": "stdout",
     "output_type": "stream",
     "text": [
      "<class 'pandas.core.frame.DataFrame'>\n",
      "Index: 391938 entries, 0 to 391938\n",
      "Data columns (total 15 columns):\n",
      " #   Column           Non-Null Count   Dtype  \n",
      "---  ------           --------------   -----  \n",
      " 0   DIST             391938 non-null  float64\n",
      " 1   BREADTH          391938 non-null  float64\n",
      " 2   DEPTH            391938 non-null  float64\n",
      " 3   DRAUGHT          391938 non-null  float64\n",
      " 4   LENGTH           391938 non-null  float64\n",
      " 5   AIR_TEMPERATURE  227308 non-null  float64\n",
      " 6   BN               228250 non-null  float64\n",
      " 7   ATA_LT           391938 non-null  int64  \n",
      " 8   PORT_SIZE        391938 non-null  float64\n",
      " 9   CI_HOUR          391938 non-null  float64\n",
      " 10  Weekday          391938 non-null  int32  \n",
      " 11  Bulk             391938 non-null  bool   \n",
      " 12  Cargo            391938 non-null  bool   \n",
      " 13  Container        391938 non-null  bool   \n",
      " 14  Tanker           391938 non-null  bool   \n",
      "dtypes: bool(4), float64(9), int32(1), int64(1)\n",
      "memory usage: 35.9 MB\n",
      "42.00409248401533\n",
      "41.76374834795299\n"
     ]
    }
   ],
   "source": [
    "train3.info()\n",
    "print(100*(391938 - 227308)/391938)\n",
    "print(100*(391938-228250)/391938)\n"
   ]
  },
  {
   "cell_type": "code",
   "execution_count": 20,
   "metadata": {},
   "outputs": [],
   "source": [
    "train3.to_csv(\"train4.csv\",index=False)"
   ]
  },
  {
   "cell_type": "code",
   "execution_count": 17,
   "metadata": {},
   "outputs": [
    {
     "data": {
      "text/html": [
       "<div>\n",
       "<style scoped>\n",
       "    .dataframe tbody tr th:only-of-type {\n",
       "        vertical-align: middle;\n",
       "    }\n",
       "\n",
       "    .dataframe tbody tr th {\n",
       "        vertical-align: top;\n",
       "    }\n",
       "\n",
       "    .dataframe thead th {\n",
       "        text-align: right;\n",
       "    }\n",
       "</style>\n",
       "<table border=\"1\" class=\"dataframe\">\n",
       "  <thead>\n",
       "    <tr style=\"text-align: right;\">\n",
       "      <th></th>\n",
       "      <th>DIST</th>\n",
       "      <th>BREADTH</th>\n",
       "      <th>DEPTH</th>\n",
       "      <th>DRAUGHT</th>\n",
       "      <th>LENGTH</th>\n",
       "      <th>AIR_TEMPERATURE</th>\n",
       "      <th>BN</th>\n",
       "      <th>ATA_LT</th>\n",
       "      <th>PORT_SIZE</th>\n",
       "      <th>Weekday</th>\n",
       "      <th>Bulk</th>\n",
       "      <th>Cargo</th>\n",
       "      <th>Container</th>\n",
       "      <th>Tanker</th>\n",
       "      <th>CI_HOUR</th>\n",
       "    </tr>\n",
       "  </thead>\n",
       "  <tbody>\n",
       "    <tr>\n",
       "      <th>0</th>\n",
       "      <td>30.881018</td>\n",
       "      <td>30</td>\n",
       "      <td>10</td>\n",
       "      <td>10</td>\n",
       "      <td>180</td>\n",
       "      <td>NaN</td>\n",
       "      <td>NaN</td>\n",
       "      <td>5</td>\n",
       "      <td>0.002615</td>\n",
       "      <td>0</td>\n",
       "      <td>False</td>\n",
       "      <td>False</td>\n",
       "      <td>True</td>\n",
       "      <td>False</td>\n",
       "      <td>3.450000</td>\n",
       "    </tr>\n",
       "    <tr>\n",
       "      <th>1</th>\n",
       "      <td>0.000000</td>\n",
       "      <td>30</td>\n",
       "      <td>10</td>\n",
       "      <td>10</td>\n",
       "      <td>180</td>\n",
       "      <td>NaN</td>\n",
       "      <td>NaN</td>\n",
       "      <td>12</td>\n",
       "      <td>0.000217</td>\n",
       "      <td>1</td>\n",
       "      <td>True</td>\n",
       "      <td>False</td>\n",
       "      <td>False</td>\n",
       "      <td>False</td>\n",
       "      <td>0.000000</td>\n",
       "    </tr>\n",
       "    <tr>\n",
       "      <th>2</th>\n",
       "      <td>0.000000</td>\n",
       "      <td>50</td>\n",
       "      <td>30</td>\n",
       "      <td>20</td>\n",
       "      <td>370</td>\n",
       "      <td>NaN</td>\n",
       "      <td>NaN</td>\n",
       "      <td>6</td>\n",
       "      <td>0.001614</td>\n",
       "      <td>1</td>\n",
       "      <td>False</td>\n",
       "      <td>False</td>\n",
       "      <td>True</td>\n",
       "      <td>False</td>\n",
       "      <td>0.000000</td>\n",
       "    </tr>\n",
       "    <tr>\n",
       "      <th>3</th>\n",
       "      <td>0.000000</td>\n",
       "      <td>20</td>\n",
       "      <td>10</td>\n",
       "      <td>10</td>\n",
       "      <td>120</td>\n",
       "      <td>6.7</td>\n",
       "      <td>2.629350</td>\n",
       "      <td>13</td>\n",
       "      <td>0.000356</td>\n",
       "      <td>4</td>\n",
       "      <td>False</td>\n",
       "      <td>False</td>\n",
       "      <td>True</td>\n",
       "      <td>False</td>\n",
       "      <td>0.000000</td>\n",
       "    </tr>\n",
       "    <tr>\n",
       "      <th>4</th>\n",
       "      <td>27.037650</td>\n",
       "      <td>50</td>\n",
       "      <td>20</td>\n",
       "      <td>10</td>\n",
       "      <td>300</td>\n",
       "      <td>25.6</td>\n",
       "      <td>2.495953</td>\n",
       "      <td>15</td>\n",
       "      <td>0.002615</td>\n",
       "      <td>6</td>\n",
       "      <td>False</td>\n",
       "      <td>False</td>\n",
       "      <td>True</td>\n",
       "      <td>False</td>\n",
       "      <td>253.554444</td>\n",
       "    </tr>\n",
       "  </tbody>\n",
       "</table>\n",
       "</div>"
      ],
      "text/plain": [
       "        DIST  BREADTH  DEPTH  DRAUGHT  LENGTH  AIR_TEMPERATURE        BN  \\\n",
       "0  30.881018       30     10       10     180              NaN       NaN   \n",
       "1   0.000000       30     10       10     180              NaN       NaN   \n",
       "2   0.000000       50     30       20     370              NaN       NaN   \n",
       "3   0.000000       20     10       10     120              6.7  2.629350   \n",
       "4  27.037650       50     20       10     300             25.6  2.495953   \n",
       "\n",
       "   ATA_LT  PORT_SIZE  Weekday   Bulk  Cargo  Container  Tanker     CI_HOUR  \n",
       "0       5   0.002615        0  False  False       True   False    3.450000  \n",
       "1      12   0.000217        1   True  False      False   False    0.000000  \n",
       "2       6   0.001614        1  False  False       True   False    0.000000  \n",
       "3      13   0.000356        4  False  False       True   False    0.000000  \n",
       "4      15   0.002615        6  False  False       True   False  253.554444  "
      ]
     },
     "execution_count": 17,
     "metadata": {},
     "output_type": "execute_result"
    }
   ],
   "source": [
    "train3 = pd.read_csv('train3.csv')\n",
    "train3.head()"
   ]
  },
  {
   "cell_type": "code",
   "execution_count": 18,
   "metadata": {},
   "outputs": [],
   "source": [
    "train3=train3.replace({True:1,False:0})"
   ]
  },
  {
   "cell_type": "code",
   "execution_count": 28,
   "metadata": {},
   "outputs": [
    {
     "name": "stdout",
     "output_type": "stream",
     "text": [
      "0.4013185758972082\n"
     ]
    }
   ],
   "source": [
    "dist_0_count = (train3['DIST']==0).sum()\n",
    "total_data = 391938\n",
    "print(dist_0_count / total_data)"
   ]
  },
  {
   "cell_type": "markdown",
   "metadata": {},
   "source": [
    "dist가 0인 데이터가 너무 많음 40퍼센트..\n",
    "dist가 0인 행이 결측치가 존재하면 그행은 제외하고 계산해보자"
   ]
  },
  {
   "cell_type": "code",
   "execution_count": 48,
   "metadata": {},
   "outputs": [],
   "source": [
    "X=train3.drop(['CI_HOUR'],axis=1)\n",
    "y=train3[['CI_HOUR']]"
   ]
  },
  {
   "cell_type": "code",
   "execution_count": 52,
   "metadata": {},
   "outputs": [],
   "source": [
    "# X 결측치 채우기\n",
    "from sklearn.impute import SimpleImputer\n",
    "\n",
    "# SimpleImputer를 사용하여 결측치를 해당 열의 평균값으로 대체\n",
    "imputer = SimpleImputer(strategy='mean')\n",
    "X = pd.DataFrame(imputer.fit_transform(X), columns=X.columns)"
   ]
  },
  {
   "cell_type": "code",
   "execution_count": 55,
   "metadata": {},
   "outputs": [
    {
     "name": "stdout",
     "output_type": "stream",
     "text": [
      "Mean Squared Error: 71.61074083135092\n"
     ]
    }
   ],
   "source": [
    "from sklearn.linear_model import ElasticNet\n",
    "from sklearn.datasets import make_regression\n",
    "from sklearn.model_selection import train_test_split\n",
    "from sklearn.metrics import mean_absolute_error\n",
    "\n",
    "\n",
    "# 데이터를 학습용과 테스트용으로 분할\n",
    "X_train, X_test, y_train, y_test = train_test_split(X, y, test_size=0.3, random_state=42)\n",
    "\n",
    "# ElasticNet 모델 생성 및 학습\n",
    "alpha = 0.1  # L1 regularization의 계수\n",
    "l1_ratio = 0.5  # L1 규제의 비율\n",
    "enet = ElasticNet(alpha=alpha, l1_ratio=l1_ratio, random_state=42)\n",
    "enet.fit(X_train, y_train)\n",
    "\n",
    "# 학습된 모델을 사용하여 예측\n",
    "y_pred = enet.predict(X_test)\n",
    "\n",
    "# 모델의 성능 평가 (예시로 MSE 사용)\n",
    "MAE = mean_absolute_error(y_test, y_pred)\n",
    "print(\"Mean Squared Error:\", MAE)\n"
   ]
  },
  {
   "cell_type": "markdown",
   "metadata": {},
   "source": [
    "1. feature 임의 확정 (배 수치 관련) - 피처 10개밖에 안되니까 복사해서 두 케이스 모두 해보는걸로\n",
    "    필요하다면 feature를 만든다.\n",
    "2. 결측치 처리 방안 ex) dist가 0, bn, 기온\n",
    "3. 모델 선정 (각자 좀 찾아와서 다 돌려서 성능좋은걸로)\n",
    "    의사결정트리회귀\n",
    "    캣부스트\n"
   ]
  }
 ],
 "metadata": {
  "kernelspec": {
   "display_name": "base",
   "language": "python",
   "name": "python3"
  },
  "language_info": {
   "codemirror_mode": {
    "name": "ipython",
    "version": 3
   },
   "file_extension": ".py",
   "mimetype": "text/x-python",
   "name": "python",
   "nbconvert_exporter": "python",
   "pygments_lexer": "ipython3",
   "version": "3.11.5"
  }
 },
 "nbformat": 4,
 "nbformat_minor": 2
}
